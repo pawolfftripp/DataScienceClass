{
 "cells": [
  {
   "cell_type": "markdown",
   "metadata": {},
   "source": [
    "Question 1: How would you enter in a variable, \"Dog\", as an string?\n",
    "A) x = str(\"Dog\")\n",
    "B) str x = \"Dog\"\n",
    "C) string x = \"Dog\"\n",
    "D) x = string \"Dog\""
   ]
  },
  {
   "cell_type": "markdown",
   "metadata": {},
   "source": [
    "Question 2: Which of these commands would give you the length of a string?\n",
    "A) message[]\n",
    "B) response.length()\n",
    "C) conc.l()\n",
    "D) len()"
   ]
  },
  {
   "cell_type": "markdown",
   "metadata": {},
   "source": [
    "Question 3: This command would provide which of the following responses? bool(0)\n",
    "A) True\n",
    "B) False"
   ]
  },
  {
   "cell_type": "markdown",
   "metadata": {},
   "source": [
    "Question 4: This command would provide which of the following responses? bool(-5)\n",
    "A) True\n",
    "B) False"
   ]
  },
  {
   "cell_type": "markdown",
   "metadata": {},
   "source": [
    "Question 5: What does float() do?\n",
    "A) Converts integer to a string.\n",
    "B) Converts integer to a float.\n",
    "C) Capitalizes a string.\n",
    "D) Summons Chris Angel to start levitating."
   ]
  },
  {
   "cell_type": "markdown",
   "metadata": {},
   "source": [
    "Question 6: 3.14 is which data type?\n",
    "A) Int\n",
    "B) Float\n",
    "C) Complex\n",
    "D) String"
   ]
  },
  {
   "cell_type": "markdown",
   "metadata": {},
   "source": [
    "Question 7: 66 is which data type?\n",
    "A) Int\n",
    "B) Float\n",
    "C) Complex\n",
    "D) String"
   ]
  },
  {
   "cell_type": "markdown",
   "metadata": {},
   "source": [
    "Question 8: Dog is which data type?\n",
    "A) Int\n",
    "B) Float\n",
    "C) Complex\n",
    "D) String"
   ]
  },
  {
   "cell_type": "markdown",
   "metadata": {},
   "source": [
    "Question 9: A SCRIPT is a...\n",
    "A) de facto standard package-management system used to install and manage software packages written in Python.\n",
    "B) single file of python code that is meant to be imported.\n",
    "C) single file of python code that is meant to be executed as the 'main' program.\n",
    "D) collection of python modules under a common namespace."
   ]
  },
  {
   "cell_type": "markdown",
   "metadata": {},
   "source": [
    "Question 10: A MODULE is a...\n",
    "A) de facto standard package-management system used to install and manage software packages written in Python.\n",
    "B) single file of python code that is meant to be imported.\n",
    "C) single file of python code that is meant to be executed as the 'main' program.\n",
    "D) collection of python modules under a common namespace."
   ]
  }
 ],
 "metadata": {
  "kernelspec": {
   "display_name": "Python 3",
   "language": "python",
   "name": "python3"
  },
  "language_info": {
   "codemirror_mode": {
    "name": "ipython",
    "version": 3
   },
   "file_extension": ".py",
   "mimetype": "text/x-python",
   "name": "python",
   "nbconvert_exporter": "python",
   "pygments_lexer": "ipython3",
   "version": "3.8.5"
  }
 },
 "nbformat": 4,
 "nbformat_minor": 4
}
